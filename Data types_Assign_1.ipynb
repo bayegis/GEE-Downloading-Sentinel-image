{
 "cells": [
  {
   "cell_type": "code",
   "execution_count": 39,
   "id": "5e602e3d",
   "metadata": {},
   "outputs": [
    {
     "name": "stdout",
     "output_type": "stream",
     "text": [
      "252\n"
     ]
    }
   ],
   "source": [
    "# 1.sum of numbers in a list \n",
    "score = [47, 54, 70, 45, 36]\n",
    "score_sum = sum(score)\n",
    "print(score_sum)"
   ]
  },
  {
   "cell_type": "code",
   "execution_count": 38,
   "id": "9e22130e",
   "metadata": {},
   "outputs": [
    {
     "name": "stdout",
     "output_type": "stream",
     "text": [
      "6720\n"
     ]
    }
   ],
   "source": [
    "#2. multiplication in alist\n",
    "my_list = [5, 6, 7, 4, 8]\n",
    "product = 1\n",
    "\n",
    "for item in my_list:\n",
    "    product *= item\n",
    "\n",
    "print(product)"
   ]
  },
  {
   "cell_type": "code",
   "execution_count": 15,
   "id": "e3c58c00",
   "metadata": {},
   "outputs": [
    {
     "name": "stdout",
     "output_type": "stream",
     "text": [
      "18\n"
     ]
    }
   ],
   "source": [
    "#3.larget numbers in a list \n",
    "my_list = [4, 5, 13, 18, 12]\n",
    "largest_num = max(my_list)\n",
    "print(largest_num)"
   ]
  },
  {
   "cell_type": "code",
   "execution_count": null,
   "id": "145f2db1",
   "metadata": {},
   "outputs": [],
   "source": [
    "# 4.Smallest number in a list \n",
    "my_list = [21, 25, 16, 8, 24]\n",
    "smallest_num = min(my_list)\n",
    "print(smallest_num)"
   ]
  },
  {
   "cell_type": "code",
   "execution_count": null,
   "id": "820f787f",
   "metadata": {},
   "outputs": [],
   "source": [
    "# 5.  count the number of characters in a string. \n",
    "# Sample String: 'google.com' \n",
    "    \n",
    "# Expected Result: {'o': 3, 'g': 2, '.': 1, 'e': 1, 'l': 1, 'm': 1, 'c': 1}.\n",
    "# Take input from the user\n",
    "string = input(\"google.com: \")\n",
    "\n",
    "# Count the number of characters\n",
    "num_chars = len(string)\n",
    "\n",
    "# Print the result\n",
    "print(f\"The string '{string}' has {num_chars} characters.\")"
   ]
  },
  {
   "cell_type": "code",
   "execution_count": null,
   "id": "e5e55b75",
   "metadata": {},
   "outputs": [],
   "source": [
    "# 6. Write a Python function that takes a list of words and returns the length of the longest one. \n",
    "def find_longest_word(words):\n",
    "    longest_length = 0\n",
    "    for word in words:\n",
    "        if len(word) > longest_length:\n",
    "            longest_length = len(word)\n",
    "    return longest_length\n",
    "\n",
    "word_list = [\"apple\", \"banana\", \"cherry\", \"durian\", \"elderberry\"]\n",
    "longest_word_length = find_longest_word(word_list)\n",
    "print(longest_word_length)\n"
   ]
  },
  {
   "cell_type": "code",
   "execution_count": null,
   "id": "649ed0c6",
   "metadata": {},
   "outputs": [],
   "source": [
    "#7 Write a Python program to sort (ascending and descending) a dictionary by value. \n",
    "\n",
    "my_dict = {'apple': 5, 'banana': 2, 'cherry': 4, 'durian': 3, 'elderberry': 1}\n",
    "\n",
    "# Sort dictionary by value in ascending order\n",
    "sorted_dict_asc = sorted(my_dict.items(), key=lambda x: x[1])\n",
    "\n",
    "# Sort dictionary by value in descending order\n",
    "sorted_dict_desc = sorted(my_dict.items(), key=lambda x: x[1], reverse=True)\n",
    "\n",
    "# Print sorted dictionaries\n",
    "print(\"Dictionary sorted by value in ascending order:\", sorted_dict_asc)\n",
    "print(\"Dictionary sorted by value in descending order:\", sorted_dict_desc)"
   ]
  },
  {
   "cell_type": "code",
   "execution_count": null,
   "id": "26e14940",
   "metadata": {},
   "outputs": [],
   "source": [
    "#8 Write a Python program to add key to a dictionary. \n",
    "my_dict = {'apple': 5, 'banana': 2, 'cherry': 4, 'durian': 3, 'elderberry': 1}\n",
    "\n",
    "# Add new key-value pair to dictionary\n",
    "my_dict['fig'] = 6\n",
    "\n",
    "# Print updated dictionary\n",
    "print(\"Updated dictionary:\", my_dict)"
   ]
  },
  {
   "cell_type": "code",
   "execution_count": null,
   "id": "75581460",
   "metadata": {},
   "outputs": [],
   "source": [
    "# 9 Sample dictionary\n",
    "my_dict = {0: 10, 1: 20}\n",
    "\n",
    "# Add new key-value pair to dictionary\n",
    "my_dict[2] = 30\n",
    "\n",
    "# Print updated dictionary\n",
    "print(\"Updated dictionary:\", my_dict)"
   ]
  },
  {
   "cell_type": "code",
   "execution_count": null,
   "id": "a19fcb7b",
   "metadata": {},
   "outputs": [],
   "source": [
    "# 10 Sample list of tuples\n",
    "my_list = [(1, 5), (3, 2), (7, 9), (4, 6)]\n",
    "\n",
    "# Sort list by last element of each tuple in increasing order\n",
    "sorted_list = sorted(my_list, key=lambda x: x[-1])\n",
    "\n",
    "# Print sorted list\n",
    "print(\"Sorted list in increasing order by last element:\", sorted_list)"
   ]
  }
 ],
 "metadata": {
  "kernelspec": {
   "display_name": "Python 3 (ipykernel)",
   "language": "python",
   "name": "python3"
  },
  "language_info": {
   "codemirror_mode": {
    "name": "ipython",
    "version": 3
   },
   "file_extension": ".py",
   "mimetype": "text/x-python",
   "name": "python",
   "nbconvert_exporter": "python",
   "pygments_lexer": "ipython3",
   "version": "3.11.5"
  }
 },
 "nbformat": 4,
 "nbformat_minor": 5
}
