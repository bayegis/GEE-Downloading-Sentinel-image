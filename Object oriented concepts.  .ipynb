{
 "cells": [
  {
   "cell_type": "code",
   "execution_count": 33,
   "id": "243232ac",
   "metadata": {},
   "outputs": [
    {
     "name": "stdout",
     "output_type": "stream",
     "text": [
      "Area of the circle: 201.06192982974676\n",
      "Perimeter of the circle: 50.26548245743669\n"
     ]
    }
   ],
   "source": [
    "#1Python program to create a class representing a Circle\n",
    "\n",
    "import math\n",
    "\n",
    "class Circle:\n",
    "    def __init__(self, radius):\n",
    "        self.radius = radius\n",
    "\n",
    "    def calculate_area(self):\n",
    "        area = math.pi * (self.radius ** 2)\n",
    "        return area\n",
    "\n",
    "    def calculate_perimeter(self):\n",
    "        perimeter = 2 * math.pi * self.radius\n",
    "        return perimeter\n",
    "# Create a circle object\n",
    "circle = Circle(8)\n",
    "\n",
    "# Calculate and print the area\n",
    "area = circle.calculate_area()\n",
    "print(\"Area of the circle:\", area)\n",
    "\n",
    "# Calculate and print the perimeter\n",
    "perimeter = circle.calculate_perimeter()\n",
    "print(\"Perimeter of the circle:\", perimeter)"
   ]
  },
  {
   "cell_type": "code",
   "execution_count": 15,
   "id": "eb5c0d4a",
   "metadata": {},
   "outputs": [
    {
     "name": "stdout",
     "output_type": "stream",
     "text": [
      "Age of John : 28\n"
     ]
    }
   ],
   "source": [
    "#P2ython program to create a person class\n",
    "import datetime\n",
    "\n",
    "class Person:\n",
    "    def __init__(self, name, country, date_of_birth):\n",
    "        self.name = name\n",
    "        self.country = country\n",
    "        self.date_of_birth = date_of_birth\n",
    "\n",
    "    def calculate_age(self):\n",
    "        current_date = datetime.date.today()\n",
    "        age = current_date.year - self.date_of_birth.year\n",
    "\n",
    "        if current_date.month < self.date_of_birth.month or (current_date.month == self.date_of_birth.month and current_date.day < self.date_of_birth.day):\n",
    "            age -= 1\n",
    "\n",
    "        return age\n",
    "\n",
    "# Create a person object\n",
    "person = Person(\"John\", \"USA\", datetime.date(1995, 5, 15))\n",
    "\n",
    "# Calculate and print the person's age\n",
    "age = person.calculate_age()\n",
    "print(\"Age of\", person.name, \":\", age)"
   ]
  },
  {
   "cell_type": "code",
   "execution_count": 21,
   "id": "ad5202a2",
   "metadata": {},
   "outputs": [
    {
     "name": "stdout",
     "output_type": "stream",
     "text": [
      "2 + 8 = 10\n",
      "14 - 11 = 3\n",
      "44 * 6 = 264\n",
      "145 / 20 = 7.25\n"
     ]
    }
   ],
   "source": [
    "# 3Python program to create a calculator class\n",
    "\n",
    "class Calculator:\n",
    "    def add(self, x, y):\n",
    "        return x + y\n",
    "\n",
    "    def subtract(self, x, y):\n",
    "        return x - y\n",
    "\n",
    "    def multiply(self, x, y):\n",
    "        return x * y\n",
    "\n",
    "    def divide(self, x, y):\n",
    "        if y == 0:\n",
    "            raise ValueError(\"Cannot divide by zero\")\n",
    "        return x / y\n",
    "\n",
    "# Create a calculator object\n",
    "calculator = Calculator()\n",
    "\n",
    "# Test the calculator methods\n",
    "print(\"2 + 8 =\", calculator.add(2, 8))\n",
    "print(\"14 - 11 =\", calculator.subtract(14, 11))\n",
    "print(\"44 * 6 =\", calculator.multiply(44, 6))\n",
    "print(\"145 / 20 =\", calculator.divide(145, 20))"
   ]
  },
  {
   "cell_type": "code",
   "execution_count": 24,
   "id": "0ce258ee",
   "metadata": {},
   "outputs": [
    {
     "name": "stdout",
     "output_type": "stream",
     "text": [
      "Circle - Area: 113.09733552923255 Perimeter: 37.69911184307752\n",
      "Triangle - Area: 24.0 Perimeter: 21\n",
      "Square - Area: 25 Perimeter: 20\n"
     ]
    }
   ],
   "source": [
    "#4Python program to create a class that represents a shape\n",
    "import math\n",
    "\n",
    "class Shape:\n",
    "    def calculate_area(self):\n",
    "        pass\n",
    "\n",
    "    def calculate_perimeter(self):\n",
    "        pass\n",
    "\n",
    "class Circle(Shape):\n",
    "    def __init__(self, radius):\n",
    "        self.radius = radius\n",
    "\n",
    "    def calculate_area(self):\n",
    "        area = math.pi * (self.radius ** 2)\n",
    "        return area\n",
    "\n",
    "    def calculate_perimeter(self):\n",
    "        perimeter = 2 * math.pi * self.radius\n",
    "        return perimeter\n",
    "\n",
    "class Triangle(Shape):\n",
    "    def __init__(self, base, height, side1, side2, side3):\n",
    "        self.base = base\n",
    "        self.height = height\n",
    "        self.side1 = side1\n",
    "        self.side2 = side2\n",
    "        self.side3 = side3\n",
    "\n",
    "    def calculate_area(self):\n",
    "        area = 0.5 * self.base * self.height\n",
    "        return area\n",
    "\n",
    "    def calculate_perimeter(self):\n",
    "        perimeter = self.side1 + self.side2 + self.side3\n",
    "        return perimeter\n",
    "\n",
    "class Square(Shape):\n",
    "    def __init__(self, side):\n",
    "        self.side = side\n",
    "\n",
    "    def calculate_area(self):\n",
    "        area = self.side ** 2\n",
    "        return area\n",
    "\n",
    "    def calculate_perimeter(self):\n",
    "        perimeter = 4 * self.side\n",
    "        return perimeter\n",
    "\n",
    "# Create objects of different shapes\n",
    "circle = Circle(6)\n",
    "triangle = Triangle(6, 8, 7, 7, 7)\n",
    "square = Square(5)\n",
    "\n",
    "# Calculate and print the area and perimeter for each shape\n",
    "print(\"Circle - Area:\", circle.calculate_area(), \"Perimeter:\", circle.calculate_perimeter())\n",
    "print(\"Triangle - Area:\", triangle.calculate_area(), \"Perimeter:\", triangle.calculate_perimeter())\n",
    "print(\"Square - Area:\", square.calculate_area(), \"Perimeter:\", square.calculate_perimeter())"
   ]
  },
  {
   "cell_type": "code",
   "execution_count": 32,
   "id": "a2f9c30e",
   "metadata": {},
   "outputs": [
    {
     "name": "stdout",
     "output_type": "stream",
     "text": [
      "Original Name: A. Parmod\n",
      "Original Marks: 87\n",
      "Modified Name: B. Aditi\n",
      "Modified Marks: 93\n"
     ]
    }
   ],
   "source": [
    "#5Python class named Student with two attributes student_name, marks\n",
    "\n",
    "class Student:\n",
    "    def __init__(self, student_name, marks):\n",
    "        self.student_name = student_name\n",
    "        self.marks = marks\n",
    "\n",
    "# Create a student object\n",
    "student = Student(\"A. Parmod\", 87)\n",
    "\n",
    "# Print the original attribute values\n",
    "print(\"Original Name:\", student.student_name)\n",
    "print(\"Original Marks:\", student.marks)\n",
    "\n",
    "# Modify the attribute values\n",
    "student.student_name = \"B. Aditi\"\n",
    "student.marks = 93\n",
    "\n",
    "# Print the modified attribute values\n",
    "print(\"Modified Name:\", student.student_name)\n",
    "print(\"Modified Marks:\", student.marks)"
   ]
  },
  {
   "cell_type": "code",
   "execution_count": null,
   "id": "e4f922cd",
   "metadata": {},
   "outputs": [],
   "source": []
  }
 ],
 "metadata": {
  "kernelspec": {
   "display_name": "Python 3 (ipykernel)",
   "language": "python",
   "name": "python3"
  },
  "language_info": {
   "codemirror_mode": {
    "name": "ipython",
    "version": 3
   },
   "file_extension": ".py",
   "mimetype": "text/x-python",
   "name": "python",
   "nbconvert_exporter": "python",
   "pygments_lexer": "ipython3",
   "version": "3.11.5"
  }
 },
 "nbformat": 4,
 "nbformat_minor": 5
}
