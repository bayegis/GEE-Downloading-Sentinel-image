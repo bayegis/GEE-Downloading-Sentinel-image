{
 "cells": [
  {
   "cell_type": "markdown",
   "id": "5774ea9f",
   "metadata": {},
   "source": [
    "Python program to read first n lines of a file"
   ]
  },
  {
   "cell_type": "code",
   "execution_count": 13,
   "id": "d2e5cb05",
   "metadata": {},
   "outputs": [
    {
     "name": "stdout",
     "output_type": "stream",
     "text": [
      "This is the first line of the file.\n",
      "This is the second line of the file.\n",
      "This is the third line of the file.\n",
      "This is the fourth line of the file.\n",
      "This is the fifth line of the file.\n"
     ]
    }
   ],
   "source": [
    "#1  Python program to read first n lines of a file\n",
    "def read_first_n_lines(file_path, n):\n",
    "    with open(file_path, 'r') as file:\n",
    "        lines = file.readlines()\n",
    "        for line in lines[:n]:\n",
    "            print(line.strip())\n",
    "\n",
    "# Example usage\n",
    "file_path = 'C:\\\\Users\\\\HP\\\\Desktop\\\\file_.txt'  \n",
    "n = 5  # Number of lines to read\n",
    "read_first_n_lines(file_path, n)"
   ]
  },
  {
   "cell_type": "code",
   "execution_count": 17,
   "id": "86c20f71",
   "metadata": {},
   "outputs": [
    {
     "name": "stdout",
     "output_type": "stream",
     "text": [
      "The file 'C:\\Users\\HP\\Desktop\\file_.txt' has 10 lines.\n"
     ]
    }
   ],
   "source": [
    "#2 a Python program to count the number of lines in a text file.\n",
    "def count_lines(file_path):\n",
    "    with open(file_path, 'r') as file:\n",
    "        lines = file.readlines()\n",
    "        line_count = len(lines)\n",
    "        return line_count\n",
    "\n",
    "# Example usage\n",
    "file_path = 'C:\\\\Users\\\\HP\\\\Desktop\\\\file_.txt'    \n",
    "line_count = count_lines(file_path)\n",
    "print(f\"The file '{file_path}' has {line_count} lines.\")\n"
   ]
  },
  {
   "cell_type": "code",
   "execution_count": 19,
   "id": "5291b324",
   "metadata": {},
   "outputs": [
    {
     "name": "stdout",
     "output_type": "stream",
     "text": [
      "The file 'C:\\Users\\HP\\Desktop\\file_.txt' has a size of 375 bytes.\n"
     ]
    }
   ],
   "source": [
    "#3 Python program that gets the file size of a plain file:\n",
    "import os\n",
    "\n",
    "def get_file_size(file_path):\n",
    "    file_size = os.path.getsize(file_path)\n",
    "    return file_size\n",
    "\n",
    "# Example usage\n",
    "file_path = 'C:\\\\Users\\\\HP\\\\Desktop\\\\file_.txt' \n",
    "file_size = get_file_size(file_path)\n",
    "print(f\"The file '{file_path}' has a size of {file_size} bytes.\")"
   ]
  },
  {
   "cell_type": "code",
   "execution_count": 29,
   "id": "b2b9a37c",
   "metadata": {},
   "outputs": [
    {
     "name": "stdout",
     "output_type": "stream",
     "text": [
      "The file contains 80 words.\n"
     ]
    }
   ],
   "source": [
    "#5Python program that takes a text file as input and returns the number of words of a given text file.\n",
    "\n",
    "def count_words(file_path):\n",
    "    with open(file_path, 'r') as file:\n",
    "        text = file.read()\n",
    "        word_count = len(text.split())\n",
    "    return word_count\n",
    "\n",
    "# Example usage\n",
    "file_path = 'C:\\\\Users\\\\HP\\\\Desktop\\\\file_.txt'   \n",
    "word_count = count_words(file_path)\n",
    "print(f'The file contains {word_count} words.')"
   ]
  },
  {
   "cell_type": "code",
   "execution_count": 34,
   "id": "24052d77",
   "metadata": {},
   "outputs": [
    {
     "name": "stdout",
     "output_type": "stream",
     "text": [
      "This: 10\n",
      "is: 10\n",
      "the: 20\n",
      "first: 1\n",
      "line: 10\n",
      "of: 10\n",
      "file.: 10\n",
      "second: 1\n",
      "third: 1\n",
      "fourth: 1\n",
      "fifth: 1\n",
      "sixth: 1\n",
      "seventh: 1\n",
      "eighth: 1\n",
      "ninth: 1\n",
      "tenth: 1\n"
     ]
    }
   ],
   "source": [
    "#5Python program that counts the frequency of words in a file:\n",
    "\n",
    "from collections import Counter\n",
    "\n",
    "def count_word_frequency(file_path):\n",
    "    with open(file_path, 'r') as file:\n",
    "        text = file.read()\n",
    "        words = text.split()\n",
    "        word_frequency = Counter(words)\n",
    "    return word_frequency\n",
    "\n",
    "# Example usage\n",
    "file_path = 'C:\\\\Users\\\\HP\\\\Desktop\\\\file_.txt'    \n",
    "word_frequency = count_word_frequency(file_path)\n",
    "for word, frequency in word_frequency.items():\n",
    "    print(f'{word}: {frequency}')"
   ]
  }
 ],
 "metadata": {
  "kernelspec": {
   "display_name": "Python 3 (ipykernel)",
   "language": "python",
   "name": "python3"
  },
  "language_info": {
   "codemirror_mode": {
    "name": "ipython",
    "version": 3
   },
   "file_extension": ".py",
   "mimetype": "text/x-python",
   "name": "python",
   "nbconvert_exporter": "python",
   "pygments_lexer": "ipython3",
   "version": "3.11.5"
  }
 },
 "nbformat": 4,
 "nbformat_minor": 5
}
